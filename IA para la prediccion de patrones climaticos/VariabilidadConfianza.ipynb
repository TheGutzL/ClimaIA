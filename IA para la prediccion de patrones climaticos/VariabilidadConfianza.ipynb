{
 "cells": [
  {
   "cell_type": "markdown",
   "metadata": {},
   "source": [
    "# Importación de Librerias"
   ]
  },
  {
   "cell_type": "code",
   "execution_count": 1,
   "metadata": {},
   "outputs": [],
   "source": [
    "import pandas as pd\n",
    "import numpy as np"
   ]
  },
  {
   "cell_type": "markdown",
   "metadata": {},
   "source": [
    "# Lectura de los datos del CSV sobre el clima sacado de SENAMHI\n",
    "\n",
    "Faltaria calcular lo mismo pero con todos los datos de los meses"
   ]
  },
  {
   "cell_type": "code",
   "execution_count": 6,
   "metadata": {},
   "outputs": [
    {
     "name": "stdout",
     "output_type": "stream",
     "text": [
      "Coeficiente Alpha de Cronbach: -0.22552417144385944\n"
     ]
    }
   ],
   "source": [
    "df = pd.read_csv('./Datos HidroMeteorologicos/CSV/datos-general.csv')\n",
    "\n",
    "df.columns = ['AÑO / MES / DÍA', 'TEMPERATURA MAX (°C)', 'TEMPERATURA MIN (°C)', 'HUMEDAD RELATIVA (%)', 'PRECIPITACIÓN (mm/día)']\n",
    "\n",
    "df_relevant = df[['TEMPERATURA MAX (°C)', 'TEMPERATURA MIN (°C)', 'HUMEDAD RELATIVA (%)', 'PRECIPITACIÓN (mm/día)']]\n",
    "\n",
    "df_relevant = df_relevant.replace('T', np.nan).apply(pd.to_numeric, errors='coerce')\n",
    "\n",
    "varianzas = df_relevant.var()\n",
    "\n",
    "varianza_total = df_relevant.sum(axis=1).var()\n",
    "\n",
    "k = len(df_relevant.columns)\n",
    "\n",
    "alpha_cronbach = (k / (k - 1)) * (1 - (varianzas.sum() / varianza_total))\n",
    "\n",
    "print(f'Coeficiente Alpha de Cronbach: {alpha_cronbach}')"
   ]
  },
  {
   "cell_type": "code",
   "execution_count": null,
   "metadata": {},
   "outputs": [],
   "source": []
  }
 ],
 "metadata": {
  "kernelspec": {
   "display_name": ".venv",
   "language": "python",
   "name": "python3"
  },
  "language_info": {
   "codemirror_mode": {
    "name": "ipython",
    "version": 3
   },
   "file_extension": ".py",
   "mimetype": "text/x-python",
   "name": "python",
   "nbconvert_exporter": "python",
   "pygments_lexer": "ipython3",
   "version": "3.12.4"
  }
 },
 "nbformat": 4,
 "nbformat_minor": 2
}
